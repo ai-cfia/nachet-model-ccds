{
 "cells": [
  {
   "cell_type": "code",
   "execution_count": null,
   "metadata": {},
   "outputs": [],
   "source": [
    "import os\n",
    "import requests\n",
    "import cv2\n",
    "from dotenv import load_dotenv\n",
    "\n",
    "# Load environment variables\n",
    "load_dotenv(\".env.secrets.15spp_zoom_level_validation_models\")\n",
    "load_dotenv(\".env.config.15spp_zoom_level_validation_models\")\n",
    "SEED_DETECTOR_URL = os.getenv(\"SEED_DETECTOR_URL\")\n",
    "\n",
    "DIR_RAW_IMAGES = os.getenv(\"DIR_RAW_IMAGES\")\n",
    "DIR_OUTPUT_IMAGES = os.getenv(\"DIR_OUTPUT_IMAGES\")\n",
    "\n",
    "DIR_ZOOM_LVL = os.getenv(\"DIR_ZOOM_LVL\")\n",
    "DIR_TRAIN_TEST = os.getenv(\"DIR_TRAIN_TEST\")\n",
    "SPECIES = os.getenv(\"SPECIES\")\n",
    "\n",
    "IMAGE_FORMAT = os.getenv(\"IMAGE_FORMAT\")\n"
   ]
  },
  {
   "cell_type": "code",
   "execution_count": null,
   "metadata": {},
   "outputs": [],
   "source": [
    "# Function to save individual seed images\n",
    "def save_cropped_seeds(image_path, seeds_bboxes, output_folder, file_prefix):\n",
    "    image = cv2.imread(image_path, cv2.IMREAD_UNCHANGED)\n",
    "    for idx, bbox in enumerate(seeds_bboxes):\n",
    "        x_min, y_min, x_max, y_max = bbox\n",
    "        cropped_image = image[y_min:y_max, x_min:x_max]\n",
    "        cropped_filename = f\"{file_prefix}_seed{idx}.tiff\"\n",
    "        cropped_filepath = os.path.join(output_folder, cropped_filename)\n",
    "        cv2.imwrite(cropped_filepath, cropped_image)\n"
   ]
  },
  {
   "cell_type": "code",
   "execution_count": null,
   "metadata": {},
   "outputs": [],
   "source": [
    "# Function to call the model REST endpoint\n",
    "def get_seed_detections(image_path):\n",
    "    with open(image_path, \"rb\") as image_file:\n",
    "        response = requests.post(\n",
    "            url=SEED_DETECTOR_URL,  # Replace with your REST endpoint URL\n",
    "            files={\"file\": (os.path.basename(image_path), image_file)},\n",
    "            headers={\"Content-Type\": \"multipart/form-data\"},\n",
    "        )\n",
    "        response.raise_for_status()\n",
    "        return response.json()[\"predictions\"]\n"
   ]
  },
  {
   "cell_type": "code",
   "execution_count": null,
   "metadata": {},
   "outputs": [],
   "source": [
    "def process_folder(folder_path, output_folder, logpath):\n",
    "    for item in os.listdir(folder_path):\n",
    "        print(item)\n",
    "        item_path = os.path.join(folder_path, item)\n",
    "        if os.path.isdir(item_path):\n",
    "            output_sub_folder = os.path.join(output_folder, item)\n",
    "            process_folder(item_path, output_sub_folder)\n",
    "        else:\n",
    "            if item.endswith(IMAGE_FORMAT):\n",
    "                image_path = item_path\n",
    "                try:\n",
    "                    seed_detections = get_seed_detections(image_path)\n",
    "                    if seed_detections:\n",
    "                        save_cropped_seeds(\n",
    "                            image_path,\n",
    "                            seed_detections,\n",
    "                            output_folder,\n",
    "                            image_path.split(\".\")[0],\n",
    "                        )\n",
    "                    else:\n",
    "                        # error_log.append(image_path)\n",
    "                        raise Exception(\"Error processing image \" + image_path)\n",
    "                except Exception as e:\n",
    "                    with open(logpath, \"a\") as error_file:\n",
    "                        error_file.write(str(e) + \"\\n\")\n",
    "\n",
    "def main():\n",
    "    process_folder(DIR_RAW_IMAGES, DIR_OUTPUT_IMAGES, \"error_log.txt\")\n",
    "\n",
    "main()"
   ]
  },
  {
   "cell_type": "code",
   "execution_count": null,
   "metadata": {},
   "outputs": [],
   "source": [
    "# # Main script\n",
    "# def main(data_folder, output_folder):\n",
    "#     error_log = []\n",
    "#     for label_folder in os.listdir(data_folder):\n",
    "#         print(label_folder)\n",
    "#         label_folder_path = os.path.join(data_folder, label_folder)\n",
    "#         if os.path.isdir(label_folder_path):\n",
    "#             for image_file in os.listdir(label_folder_path):\n",
    "#                 if image_file.endswith(IMAGE_FORMAT):\n",
    "#                     image_path = os.path.join(label_folder_path, image_file)\n",
    "#                     try:\n",
    "#                         seed_detections = get_seed_detections(image_path)\n",
    "#                         if seed_detections:\n",
    "#                             save_cropped_seeds(\n",
    "#                                 image_path,\n",
    "#                                 seed_detections,\n",
    "#                                 output_folder,\n",
    "#                                 image_file.split(\".\")[0],\n",
    "#                             )\n",
    "#                         else:\n",
    "#                             error_log.append(image_path)\n",
    "#                     except requests.RequestException as e:\n",
    "#                         error_log.append(image_path)\n",
    "#                         print(f\"Request failed for {image_path}: {e}\")\n",
    "\n",
    "#     # Write error log\n",
    "#     with open(\"error.txt\", \"w\") as error_file:\n",
    "#         for error_image in error_log:\n",
    "#             error_file.write(error_image + \"\\n\")\n",
    "\n",
    "# main(DIR_RAW_IMAGES, DIR_OUTPUT_IMAGES)\n",
    "\n",
    "# Replace 'data_folder' and 'output_folder' with your actual folders"
   ]
  },
  {
   "cell_type": "code",
   "execution_count": null,
   "metadata": {},
   "outputs": [],
   "source": [
    "# def main(source, subfolders, dest):\n",
    "#     error_log = []\n",
    "#     subfolder_combinations = []\n",
    "#     for i in range(len(subfolders[0])):\n",
    "#         for j in range(len(subfolders[1])):\n",
    "#             for k in range(len(subfolders[2])):\n",
    "#                 subfolder_combinations.append( source + \"/\" + subfolders[0][i] + \"/\" +subfolders[1][j] + \"/\" +subfolders[2][k])\n",
    "\n",
    "#     # Write error log\n",
    "#     with open(\"error.txt\", \"w\") as error_file:\n",
    "#         for error_image in error_log:\n",
    "#             error_file.write(error_image + \"\\n\")\n",
    "\n",
    "# main(\n",
    "#     DIR_RAW_IMAGES, [DIR_ZOOM_LVL, [\"Training\", \"Testing\"], SPECIES], DIR_OUTPUT_IMAGES\n",
    "# )"
   ]
  },
  {
   "cell_type": "code",
   "execution_count": null,
   "metadata": {},
   "outputs": [],
   "source": []
  }
 ],
 "metadata": {
  "kernelspec": {
   "display_name": "Python 3",
   "language": "python",
   "name": "python3"
  },
  "language_info": {
   "name": "python",
   "version": "3.12.3"
  }
 },
 "nbformat": 4,
 "nbformat_minor": 2
}
