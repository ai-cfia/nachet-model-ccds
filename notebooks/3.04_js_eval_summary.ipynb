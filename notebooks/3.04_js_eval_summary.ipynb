{
 "cells": [
  {
   "cell_type": "code",
   "execution_count": null,
   "metadata": {},
   "outputs": [],
   "source": [
    "import os\n",
    "import json\n",
    "import pandas as pd\n",
    "import matplotlib.pyplot as plt\n"
   ]
  },
  {
   "cell_type": "code",
   "execution_count": null,
   "metadata": {},
   "outputs": [],
   "source": [
    "def load_classification_reports(root_path) -> dict:\n",
    "    loaded_reports = {}\n",
    "    for subdir, dirs, files in os.walk(root_path):\n",
    "        for file_name in files:\n",
    "            if file_name.endswith(\"_classification_report.json\"):\n",
    "                full_path = os.path.join(subdir, file_name)\n",
    "                with open(full_path, \"r\") as f:\n",
    "                    key = (file_name.split(\"_\")[0]).split(\"-\")[1]\n",
    "                    loaded_reports[key] = json.load(f)\n",
    "    return loaded_reports"
   ]
  },
  {
   "cell_type": "code",
   "execution_count": null,
   "metadata": {},
   "outputs": [],
   "source": [
    "def train_state_to_df(train_state) -> pd.DataFrame:\n",
    "    result = []\n",
    "\n",
    "    with open(train_state, \"r\") as f:\n",
    "        state_json = json.load(f)\n",
    "        for log in state_json[\"log_history\"]:\n",
    "            try:\n",
    "                result.append(\n",
    "                    {\n",
    "                        \"epoch\": log[\"epoch\"],\n",
    "                        \"grad_norm\": log[\"grad_norm\"],\n",
    "                        \"loss\": log[\"loss\"],\n",
    "                        \"learning_rate\": log[\"learning_rate\"],\n",
    "                        \"step\": log[\"step\"],\n",
    "                    }\n",
    "                )\n",
    "            except KeyError:\n",
    "                pass\n",
    "    df = pd.DataFrame(result)\n",
    "    return df"
   ]
  },
  {
   "cell_type": "code",
   "execution_count": null,
   "metadata": {},
   "outputs": [],
   "source": [
    "def plot_loss(df: pd.DataFrame, save: bool = False, save_path: str = \"./\") -> None:\n",
    "    fig, ax = plt.subplots()\n",
    "    ax.plot(df[\"epoch\"], df[\"loss\"])\n",
    "    ax.set_xlabel(\"Epoch\")\n",
    "    ax.set_ylabel(\"Loss\")\n",
    "    ax.set_title(\"Training Loss\")\n",
    "    ax.set_ylim(top=0.05, bottom=-0.0001)\n",
    "    \n",
    "    # ax.ylim(top=df['loss'].max())\n",
    "    fig.savefig(f\"{save_path}loss_plot.png\") if save else fig.show()\n",
    "    plt.close(fig)"
   ]
  },
  {
   "cell_type": "code",
   "execution_count": null,
   "metadata": {},
   "outputs": [],
   "source": [
    "def checkpoint_to_epoch(state: pd.DataFrame, checkpoint: int) -> int:\n",
    "    if checkpoint % 500 != 0:\n",
    "        return -1\n",
    "    return state[state[\"step\"] == checkpoint][\"epoch\"].values[0]"
   ]
  },
  {
   "cell_type": "code",
   "execution_count": null,
   "metadata": {},
   "outputs": [],
   "source": [
    "def all_spp_accuracy(loaded_reports) -> pd.DataFrame:\n",
    "    result = []\n",
    "    for key, report in loaded_reports.items():\n",
    "        result.append({\"checkpoint\": key, \"accuracy\": report[\"accuracy\"]})\n",
    "    return pd.DataFrame(result)"
   ]
  },
  {
   "cell_type": "code",
   "execution_count": null,
   "metadata": {},
   "outputs": [],
   "source": [
    "def plot_accuracy(df: pd.DataFrame, state: pd.DataFrame, title: str, save: bool = False, save_path: str = \"./\") -> None:\n",
    "\n",
    "    # use epoch as x-axis\n",
    "    df[\"epoch\"] = df[\"checkpoint\"].apply(lambda x: checkpoint_to_epoch(state, int(x)))\n",
    "    # sort by epoch\n",
    "    df = df.sort_values(by=\"epoch\")\n",
    "\n",
    "    fig, ax = plt.subplots()\n",
    "    ax.plot(df[\"epoch\"], df[\"accuracy\"])\n",
    "    ax.set_xlabel(\"Epoch\")\n",
    "    ax.set_ylabel(\"Accuracy\")\n",
    "    ax.set_title(title)\n",
    "    ax.set_ylim(top=1.0, bottom=0.0)\n",
    "    fig.savefig(f\"{save_path}{title}_accuracy_plot.png\") if save else fig.show()\n",
    "    plt.close(fig)"
   ]
  },
  {
   "cell_type": "code",
   "execution_count": null,
   "metadata": {},
   "outputs": [],
   "source": [
    "def plot_metric(df: pd.DataFrame, state: pd.DataFrame, title: str, metric: str, save: bool = False, save_path: str = \"./\") -> None:\n",
    "    # use epoch as x-axis\n",
    "    df[\"epoch\"] = df[\"checkpoint\"].apply(lambda x: checkpoint_to_epoch(state, int(x)))\n",
    "    # sort by epoch\n",
    "    df = df.sort_values(by=\"epoch\")\n",
    "\n",
    "    fig, ax = plt.subplots()\n",
    "    ax.plot(df[\"epoch\"], df[metric])\n",
    "    ax.set_xlabel(\"Epoch\")\n",
    "    ax.set_ylabel(metric)\n",
    "    ax.set_title(title)\n",
    "    fig.savefig(f\"{save_path}{title}_{metric}_plot.png\") if save else fig.show()\n",
    "    plt.close(fig)\n"
   ]
  },
  {
   "cell_type": "code",
   "execution_count": null,
   "metadata": {},
   "outputs": [],
   "source": [
    "def macro_avg(loaded_reports) -> pd.DataFrame:\n",
    "    result = []\n",
    "    for key, report in loaded_reports.items():\n",
    "        result.append(\n",
    "            {\n",
    "                \"checkpoint\": key,\n",
    "                \"precision\": report[\"macro avg\"][\"precision\"],\n",
    "                \"recall\": report[\"macro avg\"][\"recall\"],\n",
    "                \"f1-score\": report[\"macro avg\"][\"f1-score\"],\n",
    "                \"support\": report[\"macro avg\"][\"support\"],\n",
    "            }\n",
    "        )\n",
    "    return pd.DataFrame(result)"
   ]
  },
  {
   "cell_type": "code",
   "execution_count": null,
   "metadata": {},
   "outputs": [],
   "source": [
    "# def plot_class_accuracy(loaded_reports, state, class_name):\n",
    "#     result = []\n",
    "#     for key, report in loaded_reports.items():\n",
    "#         result.append(\n",
    "#             {\n",
    "#                 \"checkpoint\": key,\n",
    "#                 \"precision\": report[class_name][\"precision\"],\n",
    "#                 \"recall\": report[class_name][\"recall\"],\n",
    "#                 \"f1-score\": report[class_name][\"f1-score\"],\n",
    "#                 \"support\": report[class_name][\"support\"],\n",
    "#                 \"accuracy\": report[class_name][\"accuracy\"],\n",
    "#             }\n",
    "#         )\n",
    "#     df = pd.DataFrame(result)\n",
    "#     plot_accuracy(df, state, class_name)"
   ]
  },
  {
   "cell_type": "code",
   "execution_count": null,
   "metadata": {},
   "outputs": [],
   "source": [
    "def plot_class_metric(\n",
    "    loaded_reports: pd.DataFrame,\n",
    "    state: pd.DataFrame,\n",
    "    title: str,\n",
    "    metric: str,\n",
    "    class_name: str,\n",
    "    save: bool = False,\n",
    "    save_path: str = \"./\",\n",
    "):\n",
    "    result = []\n",
    "    for key, report in loaded_reports.items():\n",
    "        result.append(\n",
    "            {\n",
    "                \"checkpoint\": key,\n",
    "                \"precision\": report[class_name][\"precision\"],\n",
    "                \"recall\": report[class_name][\"recall\"],\n",
    "                \"f1-score\": report[class_name][\"f1-score\"],\n",
    "                \"support\": report[class_name][\"support\"],\n",
    "                \"accuracy\": report[class_name][\"accuracy\"],\n",
    "            }\n",
    "        )\n",
    "    df = pd.DataFrame(result)\n",
    "    plot_metric(df, state, title, metric, save, save_path)"
   ]
  },
  {
   "cell_type": "code",
   "execution_count": null,
   "metadata": {},
   "outputs": [],
   "source": [
    "def move_checkpoint_plots(chk_root: str, save_path: str) -> None:\n",
    "    for subdir, dirs, files in os.walk(chk_root):\n",
    "        for file_name in files:\n",
    "            if file_name.endswith(\".png\") and \"checkpoint\" in subdir:\n",
    "                full_path = os.path.join(subdir, file_name)\n",
    "                os.rename(full_path, f\"{save_path}{file_name}\")"
   ]
  },
  {
   "cell_type": "code",
   "execution_count": null,
   "metadata": {},
   "outputs": [],
   "source": [
    "def get_class_names(loaded_reports) -> list:\n",
    "    result = []\n",
    "    for key in loaded_reports[\"500\"]:\n",
    "        if key not in [\"accuracy\", \"macro avg\", \"weighted avg\"]:\n",
    "            result.append(key)\n",
    "    return result"
   ]
  },
  {
   "cell_type": "code",
   "execution_count": null,
   "metadata": {},
   "outputs": [],
   "source": [
    "def process_model(root_path: str, save: bool = False) -> None:\n",
    "    save_path = f\"{root_path}/plots/\"\n",
    "    if not os.path.exists(root_path + \"/plots\"):\n",
    "        os.makedirs(root_path + \"/plots\")\n",
    "\n",
    "    loaded_reports = load_classification_reports(root_path)\n",
    "    state = train_state_to_df(f\"{root_path}/trainer_state.json\")\n",
    "    \n",
    "    class_names = get_class_names(loaded_reports)\n",
    "    all_spp = all_spp_accuracy(loaded_reports)\n",
    "\n",
    "    plot_loss(state, save, save_path)\n",
    "    plot_accuracy(all_spp, state, \"All Species\", save, save_path)\n",
    "    \n",
    "    for class_name in class_names:\n",
    "        plot_class_metric(loaded_reports, state, class_name, \"accuracy\", class_name, save, save_path)\n",
    "        plot_class_metric(loaded_reports, state, class_name, \"precision\", class_name, save, save_path)\n",
    "        plot_class_metric(loaded_reports, state, class_name, \"recall\", class_name, save, save_path)\n",
    "        plot_class_metric(loaded_reports, state, class_name, \"f1-score\", class_name, save, save_path)\n",
    "    \n",
    "    move_checkpoint_plots(root_path, save_path)"
   ]
  },
  {
   "cell_type": "code",
   "execution_count": null,
   "metadata": {},
   "outputs": [],
   "source": [
    "def main():\n",
    "    # process_model(\"../models/15spp_zoom_level_validation_models/1_seed_model_20250127\", save=True)\n",
    "    # print(\"1/7 Done\")\n",
    "\n",
    "    # process_model(\"../models/15spp_zoom_level_validation_models/1_seed_model_20250128\", save=True)\n",
    "    # print(\"2/7 Done\")\n",
    "    \n",
    "    # process_model(\"../models/15spp_zoom_level_validation_models/1_seed_model_20250129\", save=True)\n",
    "    # print(\"3/7 Done\")\n",
    "    \n",
    "    process_model(\"../models/15spp_zoom_level_validation_models/2_seed_model_120250130\", save=True)\n",
    "    print(\"4/7 Done\")\n",
    "    \n",
    "    process_model(\"../models/15spp_zoom_level_validation_models/6_seed_model_120250130\", save=True)\n",
    "    print(\"5/7 Done\")\n",
    "    \n",
    "    process_model(\"../models/27spp_model/model_120250130\", save=True)\n",
    "    print(\"6/7 Done\")\n",
    "    \n",
    "    process_model(\"../models/27spp_model/model_220250130\", save=True)\n",
    "    print(\"7/7 Done\")\n",
    "\n",
    "main()"
   ]
  }
 ],
 "metadata": {
  "kernelspec": {
   "display_name": "Python 3",
   "language": "python",
   "name": "python3"
  },
  "language_info": {
   "codemirror_mode": {
    "name": "ipython",
    "version": 3
   },
   "file_extension": ".py",
   "mimetype": "text/x-python",
   "name": "python",
   "nbconvert_exporter": "python",
   "pygments_lexer": "ipython3",
   "version": "3.12.3"
  }
 },
 "nbformat": 4,
 "nbformat_minor": 2
}
