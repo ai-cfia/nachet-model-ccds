{
 "cells": [
  {
   "cell_type": "code",
   "execution_count": null,
   "metadata": {},
   "outputs": [],
   "source": [
    "import os\n",
    "import json\n",
    "import pandas as pd\n",
    "import matplotlib.pyplot as plt\n"
   ]
  },
  {
   "cell_type": "code",
   "execution_count": null,
   "metadata": {},
   "outputs": [],
   "source": [
    "def load_classification_reports(root_path) -> dict:\n",
    "    loaded_reports = {}\n",
    "    for subdir, dirs, files in os.walk(root_path):\n",
    "        for file_name in files:\n",
    "            if file_name.endswith(\"_classification_report.json\"):\n",
    "                full_path = os.path.join(subdir, file_name)\n",
    "                with open(full_path, \"r\") as f:\n",
    "                    key = (file_name.split(\"_\")[0]).split(\"-\")[1]\n",
    "                    loaded_reports[key] = json.load(f)\n",
    "    return loaded_reports"
   ]
  },
  {
   "cell_type": "code",
   "execution_count": null,
   "metadata": {},
   "outputs": [],
   "source": [
    "def train_state_to_df(train_state) -> pd.DataFrame:\n",
    "    result = []\n",
    "\n",
    "    with open(train_state, \"r\") as f:\n",
    "        state_json = json.load(f)\n",
    "        for log in state_json[\"log_history\"]:\n",
    "            try:\n",
    "                result.append(\n",
    "                    {\n",
    "                        \"epoch\": log[\"epoch\"],\n",
    "                        \"grad_norm\": log[\"grad_norm\"],\n",
    "                        \"loss\": log[\"loss\"],\n",
    "                        \"learning_rate\": log[\"learning_rate\"],\n",
    "                        \"step\": log[\"step\"],\n",
    "                    }\n",
    "                )\n",
    "            except KeyError:\n",
    "                pass\n",
    "    df = pd.DataFrame(result)\n",
    "    return df"
   ]
  },
  {
   "cell_type": "code",
   "execution_count": null,
   "metadata": {},
   "outputs": [],
   "source": [
    "def plot_loss(df: pd.DataFrame):\n",
    "    plt.plot(df[\"epoch\"], df[\"loss\"])\n",
    "    plt.xlabel(\"Epoch\")\n",
    "    plt.ylabel(\"Loss\")\n",
    "    plt.title(\"Training Loss\")\n",
    "    # // set ymax to max loss excluding the highest 5% of values\n",
    "    plt.ylim(top=0.05, bottom=-0.0001)\n",
    "    # plt.ylim(top=df['loss'].max())\n",
    "    plt.show()"
   ]
  },
  {
   "cell_type": "code",
   "execution_count": null,
   "metadata": {},
   "outputs": [],
   "source": [
    "def checkpoint_to_epoch(state: pd.DataFrame, checkpoint: int) -> int:\n",
    "    return state[state[\"step\"] == checkpoint][\"epoch\"].values[0]"
   ]
  },
  {
   "cell_type": "code",
   "execution_count": null,
   "metadata": {},
   "outputs": [],
   "source": [
    "def all_spp_accuracy(loaded_reports) -> pd.DataFrame:\n",
    "    result = []\n",
    "    for key, report in loaded_reports.items():\n",
    "        result.append({\"checkpoint\": key, \"accuracy\": report[\"accuracy\"]})\n",
    "    return pd.DataFrame(result)"
   ]
  },
  {
   "cell_type": "code",
   "execution_count": null,
   "metadata": {},
   "outputs": [],
   "source": [
    "def plot_accuracy(df: pd.DataFrame, state: pd.DataFrame, title: str):\n",
    "    # use epoch as x-axis\n",
    "    df[\"epoch\"] = df[\"checkpoint\"].apply(lambda x: checkpoint_to_epoch(state, int(x)))\n",
    "    # sort by epoch\n",
    "    df = df.sort_values(by=\"epoch\")\n",
    "\n",
    "    plt.plot(df[\"epoch\"], df[\"accuracy\"])\n",
    "    plt.xlabel(\"Epoch\")\n",
    "    plt.ylabel(\"Accuracy\")\n",
    "    plt.ylim(top=1.0, bottom=0.0)\n",
    "    plt.title(title)\n",
    "    plt.show()"
   ]
  },
  {
   "cell_type": "code",
   "execution_count": null,
   "metadata": {},
   "outputs": [],
   "source": [
    "def plot_metric(df: pd.DataFrame, state: pd.DataFrame, title: str, metric: str):\n",
    "    # use epoch as x-axis\n",
    "    df[\"epoch\"] = df[\"checkpoint\"].apply(lambda x: checkpoint_to_epoch(state, int(x)))\n",
    "    # sort by epoch\n",
    "    df = df.sort_values(by=\"epoch\")\n",
    "\n",
    "    plt.plot(df[\"epoch\"], df[metric])\n",
    "    plt.xlabel(\"Epoch\")\n",
    "    plt.ylabel(metric)\n",
    "    plt.title(title)\n",
    "    plt.show()"
   ]
  },
  {
   "cell_type": "code",
   "execution_count": null,
   "metadata": {},
   "outputs": [],
   "source": [
    "def macro_avg(loaded_reports) -> pd.DataFrame:\n",
    "    result = []\n",
    "    for key, report in loaded_reports.items():\n",
    "        result.append(\n",
    "            {\n",
    "                \"checkpoint\": key,\n",
    "                \"precision\": report[\"macro avg\"][\"precision\"],\n",
    "                \"recall\": report[\"macro avg\"][\"recall\"],\n",
    "                \"f1-score\": report[\"macro avg\"][\"f1-score\"],\n",
    "                \"support\": report[\"macro avg\"][\"support\"],\n",
    "            }\n",
    "        )\n",
    "    return pd.DataFrame(result)"
   ]
  },
  {
   "cell_type": "code",
   "execution_count": null,
   "metadata": {},
   "outputs": [],
   "source": [
    "def plot_class_accuracy(loaded_reports, state, class_name) -> pd.DataFrame:\n",
    "    result = []\n",
    "    for key, report in loaded_reports.items():\n",
    "        result.append(\n",
    "            {\n",
    "                \"checkpoint\": key,\n",
    "                \"precision\": report[class_name][\"precision\"],\n",
    "                \"recall\": report[class_name][\"recall\"],\n",
    "                \"f1-score\": report[class_name][\"f1-score\"],\n",
    "                \"support\": report[class_name][\"support\"],\n",
    "                \"accuracy\": report[class_name][\"accuracy\"],\n",
    "            }\n",
    "        )\n",
    "    df = pd.DataFrame(result)\n",
    "    plot_accuracy(df, state, class_name)"
   ]
  },
  {
   "cell_type": "code",
   "execution_count": null,
   "metadata": {},
   "outputs": [],
   "source": [
    "def plot_class_metric(\n",
    "    loaded_reports: pd.DataFrame,\n",
    "    state: pd.DataFrame,\n",
    "    title: str,\n",
    "    metric: str,\n",
    "    class_name: str,\n",
    "):\n",
    "    result = []\n",
    "    for key, report in loaded_reports.items():\n",
    "        result.append(\n",
    "            {\n",
    "                \"checkpoint\": key,\n",
    "                \"precision\": report[class_name][\"precision\"],\n",
    "                \"recall\": report[class_name][\"recall\"],\n",
    "                \"f1-score\": report[class_name][\"f1-score\"],\n",
    "                \"support\": report[class_name][\"support\"],\n",
    "                \"accuracy\": report[class_name][\"accuracy\"],\n",
    "            }\n",
    "        )\n",
    "    df = pd.DataFrame(result)\n",
    "    plot_metric(df, state, title, metric)"
   ]
  },
  {
   "cell_type": "code",
   "execution_count": null,
   "metadata": {},
   "outputs": [],
   "source": [
    "def get_class_names(loaded_reports) -> list:\n",
    "    result = []\n",
    "    for key in loaded_reports[\"500\"]:\n",
    "        if key not in [\"accuracy\", \"macro avg\", \"weighted avg\"]:\n",
    "            result.append(key)\n",
    "    return result"
   ]
  },
  {
   "cell_type": "code",
   "execution_count": null,
   "metadata": {},
   "outputs": [],
   "source": [
    "def main():\n",
    "    root_path = \"../models/15spp_zoom_level_validation_models/1_seed_model_20250127\"\n",
    "    classification_reports = load_classification_reports(root_path)\n",
    "    state_path = root_path + \"/trainer_state.json\"\n",
    "    train_state_df = train_state_to_df(state_path)\n",
    "    plot_loss(train_state_df)\n",
    "    plot_accuracy(\n",
    "        all_spp_accuracy(classification_reports), train_state_df, \"All Species\"\n",
    "    )\n",
    "\n",
    "    classes = get_class_names(classification_reports)\n",
    "    classes.sort(key=(lambda x: int(x.split(\" \")[0])))\n",
    "    # print(json.dumps(classes, indent=4))\n",
    "    for class_name in classes:\n",
    "        plot_class_metric(\n",
    "            classification_reports,\n",
    "            train_state_df,\n",
    "            class_name,\n",
    "            \"accuracy\",\n",
    "            class_name,\n",
    "        )\n",
    "        plot_class_metric(\n",
    "            classification_reports,\n",
    "            train_state_df,\n",
    "            class_name,\n",
    "            \"precision\",\n",
    "            class_name,\n",
    "        )\n",
    "\n",
    "\n",
    "main()"
   ]
  }
 ],
 "metadata": {
  "kernelspec": {
   "display_name": "Python 3",
   "language": "python",
   "name": "python3"
  },
  "language_info": {
   "codemirror_mode": {
    "name": "ipython",
    "version": 3
   },
   "file_extension": ".py",
   "mimetype": "text/x-python",
   "name": "python",
   "nbconvert_exporter": "python",
   "pygments_lexer": "ipython3",
   "version": "3.12.3"
  }
 },
 "nbformat": 4,
 "nbformat_minor": 2
}
